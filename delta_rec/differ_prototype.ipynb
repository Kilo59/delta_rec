{
 "cells": [
  {
   "cell_type": "code",
   "execution_count": 10,
   "metadata": {},
   "outputs": [],
   "source": [
    "from IPython.display import display\n",
    "from pprint import pprint as pp\n",
    "# import pandas as pd"
   ]
  },
  {
   "cell_type": "code",
   "execution_count": 11,
   "metadata": {},
   "outputs": [],
   "source": [
    "# import sys\n",
    "import difflib"
   ]
  },
  {
   "cell_type": "code",
   "execution_count": 21,
   "metadata": {},
   "outputs": [],
   "source": [
    "file1 = 'MOCK_DATA_1.csv'\n",
    "file2 = 'MOCK_DATA_2.csv'\n",
    "with open(file1, 'r') as f_in:\n",
    "    text1 = f_in.readlines()[:50]\n",
    "with open(file2, 'r') as f_in:\n",
    "    text2 = f_in.readlines()[:50]"
   ]
  },
  {
   "cell_type": "code",
   "execution_count": 22,
   "metadata": {},
   "outputs": [],
   "source": [
    "d = difflib.Differ()"
   ]
  },
  {
   "cell_type": "code",
   "execution_count": 23,
   "metadata": {},
   "outputs": [
    {
     "data": {
      "text/plain": [
       "['  id,first_name,last_name,email,color,Home Address,City,State,Zip Code,Date\\n',\n",
       " '- 1,Shell,Collelton,scollelton0@whitehouse.gov,Indigo,05 Lawn Road,Bethesda,Maryland,20892,8/31/2017\\n',\n",
       " '- 2,Bebe,Grevel,bgrevel1@typepad.com,Violet,4 Fisk Place,Atlanta,Georgia,30316,7/25/2017\\n',\n",
       " '- 3,Libbey,Minards,lminards2@upenn.edu,Green,36373 Holmberg Terrace,Cincinnati,Ohio,45203,3/11/2018\\n',\n",
       " '- 4,Rosalie,Pilley,rpilley3@abc.net.au,Purple,51 Ramsey Crossing,Charleston,West Virginia,25313,2/2/2018\\n']"
      ]
     },
     "execution_count": 23,
     "metadata": {},
     "output_type": "execute_result"
    }
   ],
   "source": [
    "result = list(d.compare(text1, text2))\n",
    "result[:5]"
   ]
  },
  {
   "cell_type": "code",
   "execution_count": 24,
   "metadata": {},
   "outputs": [
    {
     "name": "stdout",
     "output_type": "stream",
     "text": [
      "- 1,Shell,Collelton,scollelton0@whitehouse.gov,Indigo,05 Lawn Road,Bethesda,Maryland,20892,8/31/2017\n",
      "- 2,Bebe,Grevel,bgrevel1@typepad.com,Violet,4 Fisk Place,Atlanta,Georgia,30316,7/25/2017\n",
      "- 3,Libbey,Minards,lminards2@upenn.edu,Green,36373 Holmberg Terrace,Cincinnati,Ohio,45203,3/11/2018\n",
      "- 4,Rosalie,Pilley,rpilley3@abc.net.au,Purple,51 Ramsey Crossing,Charleston,West Virginia,25313,2/2/2018\n",
      "- 5,Waldemar,Stitcher,wstitcher4@posterous.com,Orange,51928 Florence Lane,El Paso,Texas,88541,10/7/2017\n",
      "- 6,Danya,Biford,dbiford5@rakuten.co.jp,Goldenrod,71138 Butternut Road,Salt Lake City,Utah,84130,1/31/2018\n",
      "- 7,Ivor,Docksey,idocksey6@g.co,Mauv,328 Elka Street,Kansas City,Kansas,66160,11/5/2017\n",
      "- 8,Broddy,Bezzant,bbezzant7@macromedia.com,Pink,6 Northridge Court,Arlington,Virginia,22217,8/31/2017\n",
      "- 9,Leonelle,Leftridge,lleftridge8@ehow.com,Green,047 Porter Place,Tallahassee,Florida,32304,8/23/2017\n",
      "- 10,Chilton,Banck,cbanck9@tinypic.com,Purple,59 Delaware Way,Sacramento,California,94245,11/30/2017\n",
      "+ 1,Hugo,Imesson,himesson0@twitter.com,Violet,460 Northland Place,North Las Vegas,Nevada,89036,7/22/2017\n",
      "+ 2,Merlina,Morl,mmorl1@state.gov,Maroon,3 Hanover Pass,Los Angeles,California,90010,7/27/2017\n",
      "+ 3,Granthem,Felkin,gfelkin2@merriam-webster.com,Red,338 Glendale Park,Long Beach,California,90847,4/29/2018\n",
      "+ 4,Erhart,Macewan,emacewan3@go.com,Teal,1 Lawn Pass,Glendale,California,91210,8/18/2017\n",
      "+ 5,Christy,Hallmark,challmark4@independent.co.uk,Mauv,3 Shopko Pass,Bakersfield,California,93399,10/13/2017\n",
      "+ 6,Shannon,Mablestone,smablestone5@hibu.com,Blue,2 Summit Point,Redwood City,California,94064,3/18/2018\n",
      "+ 7,Giacopo,Hehnke,ghehnke6@harvard.edu,Crimson,02458 Mccormick Lane,Torrance,California,90505,8/15/2017\n",
      "+ 8,Isa,Addey,iaddey7@fema.gov,Purple,08 Ridgeview Court,Fresno,California,93721,12/31/2017\n",
      "+ 9,Antonius,Fullard,afullard8@ning.com,Fuscia,5074 Gina Crossing,Sparks,Nevada,89436,8/2/2017\n",
      "+ 10,Natalya,Crayton,ncrayton9@a8.net,Teal,7 Hanover Road,Las Vegas,Nevada,89166,4/23/2018\n"
     ]
    }
   ],
   "source": [
    "for line in result:\n",
    "    if line[0] in ('+', '-'):\n",
    "        print(line.rstrip())"
   ]
  },
  {
   "cell_type": "code",
   "execution_count": null,
   "metadata": {},
   "outputs": [],
   "source": []
  }
 ],
 "metadata": {
  "kernelspec": {
   "display_name": "Python 3",
   "language": "python",
   "name": "python3"
  },
  "language_info": {
   "codemirror_mode": {
    "name": "ipython",
    "version": 3
   },
   "file_extension": ".py",
   "mimetype": "text/x-python",
   "name": "python",
   "nbconvert_exporter": "python",
   "pygments_lexer": "ipython3",
   "version": "3.6.4"
  }
 },
 "nbformat": 4,
 "nbformat_minor": 2
}
