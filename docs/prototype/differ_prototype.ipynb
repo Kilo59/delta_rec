{
 "cells": [
  {
   "cell_type": "code",
   "execution_count": 1,
   "metadata": {},
   "outputs": [],
   "source": [
    "from IPython.display import display\n",
    "# from pprint import pprint as pp\n",
    "# import pandas as pd"
   ]
  },
  {
   "cell_type": "code",
   "execution_count": 2,
   "metadata": {},
   "outputs": [],
   "source": [
    "# import sys\n",
    "import difflib"
   ]
  },
  {
   "cell_type": "code",
   "execution_count": 3,
   "metadata": {},
   "outputs": [],
   "source": [
    "file1 = 'MOCK_DATA_1.csv'\n",
    "file2 = 'MOCK_DATA_2.csv'\n",
    "with open(file1, 'r') as f_in:\n",
    "    text1 = f_in.readlines()\n",
    "with open(file2, 'r') as f_in:\n",
    "    text2 = f_in.readlines()"
   ]
  },
  {
   "cell_type": "code",
   "execution_count": 4,
   "metadata": {},
   "outputs": [],
   "source": [
    "d = difflib.Differ()"
   ]
  },
  {
   "cell_type": "code",
   "execution_count": 5,
   "metadata": {},
   "outputs": [
    {
     "data": {
      "text/plain": [
       "['  id,first_name,last_name,email,color,Home Address,City,State,Zip Code,Date\\n',\n",
       " '- 1,Shell,Collelton,scollelton0@whitehouse.gov,Indigo,05 Lawn Road,Bethesda,Maryland,20892,8/31/2017\\n',\n",
       " '- 2,Bebe,Grevel,bgrevel1@typepad.com,Violet,4 Fisk Place,Atlanta,Georgia,30316,7/25/2017\\n',\n",
       " '- 3,Libbey,Minards,lminards2@upenn.edu,Green,36373 Holmberg Terrace,Cincinnati,Ohio,45203,3/11/2018\\n',\n",
       " '- 4,Rosalie,Pilley,rpilley3@abc.net.au,Purple,51 Ramsey Crossing,Charleston,West Virginia,25313,2/2/2018\\n']"
      ]
     },
     "execution_count": 5,
     "metadata": {},
     "output_type": "execute_result"
    }
   ],
   "source": [
    "result = list(d.compare(text1, text2))\n",
    "result[:5]"
   ]
  },
  {
   "cell_type": "code",
   "execution_count": 6,
   "metadata": {},
   "outputs": [
    {
     "name": "stdout",
     "output_type": "stream",
     "text": [
      "- 1,Shell,Collelton,scollelton0@whitehouse.gov,Indigo,05 Lawn Road,Bethesda,Maryland,20892,8/31/2017\n",
      "- 2,Bebe,Grevel,bgrevel1@typepad.com,Violet,4 Fisk Place,Atlanta,Georgia,30316,7/25/2017\n",
      "- 3,Libbey,Minards,lminards2@upenn.edu,Green,36373 Holmberg Terrace,Cincinnati,Ohio,45203,3/11/2018\n",
      "- 4,Rosalie,Pilley,rpilley3@abc.net.au,Purple,51 Ramsey Crossing,Charleston,West Virginia,25313,2/2/2018\n",
      "- 5,Waldemar,Stitcher,wstitcher4@posterous.com,Orange,51928 Florence Lane,El Paso,Texas,88541,10/7/2017\n",
      "- 6,Danya,Biford,dbiford5@rakuten.co.jp,Goldenrod,71138 Butternut Road,Salt Lake City,Utah,84130,1/31/2018\n",
      "- 7,Ivor,Docksey,idocksey6@g.co,Mauv,328 Elka Street,Kansas City,Kansas,66160,11/5/2017\n",
      "- 8,Broddy,Bezzant,bbezzant7@macromedia.com,Pink,6 Northridge Court,Arlington,Virginia,22217,8/31/2017\n",
      "- 9,Leonelle,Leftridge,lleftridge8@ehow.com,Green,047 Porter Place,Tallahassee,Florida,32304,8/23/2017\n",
      "- 10,Chilton,Banck,cbanck9@tinypic.com,Purple,59 Delaware Way,Sacramento,California,94245,11/30/2017\n",
      "+ 1,Hugo,Imesson,himesson0@twitter.com,Violet,460 Northland Place,North Las Vegas,Nevada,89036,7/22/2017\n",
      "+ 2,Merlina,Morl,mmorl1@state.gov,Maroon,3 Hanover Pass,Los Angeles,California,90010,7/27/2017\n",
      "+ 3,Granthem,Felkin,gfelkin2@merriam-webster.com,Red,338 Glendale Park,Long Beach,California,90847,4/29/2018\n",
      "+ 4,Erhart,Macewan,emacewan3@go.com,Teal,1 Lawn Pass,Glendale,California,91210,8/18/2017\n"
     ]
    }
   ],
   "source": [
    "for line in result[:15]:\n",
    "    if line[0] in ('+', '-'):\n",
    "        print(line.rstrip())"
   ]
  },
  {
   "cell_type": "code",
   "execution_count": 7,
   "metadata": {},
   "outputs": [
    {
     "data": {
      "text/plain": [
       "['1,Hugo,Imesson,himesson0@twitter.com,Violet,460 Northland Place,North Las Vegas,Nevada,89036,7/22/2017\\n',\n",
       " '2,Merlina,Morl,mmorl1@state.gov,Maroon,3 Hanover Pass,Los Angeles,California,90010,7/27/2017\\n',\n",
       " '3,Granthem,Felkin,gfelkin2@merriam-webster.com,Red,338 Glendale Park,Long Beach,California,90847,4/29/2018\\n',\n",
       " '4,Erhart,Macewan,emacewan3@go.com,Teal,1 Lawn Pass,Glendale,California,91210,8/18/2017\\n',\n",
       " '5,Christy,Hallmark,challmark4@independent.co.uk,Mauv,3 Shopko Pass,Bakersfield,California,93399,10/13/2017\\n',\n",
       " '6,Shannon,Mablestone,smablestone5@hibu.com,Blue,2 Summit Point,Redwood City,California,94064,3/18/2018\\n',\n",
       " '7,Giacopo,Hehnke,ghehnke6@harvard.edu,Crimson,02458 Mccormick Lane,Torrance,California,90505,8/15/2017\\n',\n",
       " '8,Isa,Addey,iaddey7@fema.gov,Purple,08 Ridgeview Court,Fresno,California,93721,12/31/2017\\n',\n",
       " '9,Antonius,Fullard,afullard8@ning.com,Fuscia,5074 Gina Crossing,Sparks,Nevada,89436,8/2/2017\\n',\n",
       " '10,Natalya,Crayton,ncrayton9@a8.net,Teal,7 Hanover Road,Las Vegas,Nevada,89166,4/23/2018\\n',\n",
       " '50,Edward,Le Fevre,elefevre1d@tinyurl.com,Orange,95 Eastlawn Circle,Oakland,California,94627,2/22/2018\\n',\n",
       " '51,Celinka,Fusedale,cfusedale1e@sitemeter.com,Goldenrod,14667 Hansons Lane,Fresno,California,93709,7/1/2017\\n',\n",
       " '52,Margi,Wear,mwear1f@feedburner.com,Aquamarine,005 Quincy Hill,Ventura,California,93005,4/18/2018\\n',\n",
       " '53,Dulcea,Demageard,ddemageard1g@github.com,Fuscia,48487 Northridge Junction,Los Angeles,California,90015,10/26/2017\\n',\n",
       " '54,Scarlett,Panting,spanting1h@fastcompany.com,Puce,113 Washington Court,Stockton,California,95298,5/28/2017\\n',\n",
       " '55,Honey,Matuszinski,hmatuszinski1i@reverbnation.com,Crimson,5 Badeau Parkway,San Francisco,California,94105,11/30/2017\\n',\n",
       " '56,Abby,Hindmore,ahindmore1j@squidoo.com,Puce,49332 Onsgard Park,Henderson,Nevada,89074,2/17/2018\\n',\n",
       " '57,Nissa,Jacobi,njacobi1k@cdc.gov,Khaki,57 Dapin Street,Stockton,California,95298,8/31/2017\\n',\n",
       " \"58,Julio,O'Driscole,jodriscole1l@princeton.edu,Pink,609 Lake View Street,San Diego,California,92121,1/5/2018\\n\",\n",
       " '59,Thurston,Choake,tchoake1m@sphinn.com,Violet,42 Montana Pass,Torrance,California,90505,5/20/2017\\n',\n",
       " '60,Irene,Lethieulier,ilethieulier1n@macromedia.com,Turquoise,12 Arapahoe Park,Pasadena,California,91199,12/18/2017\\n',\n",
       " '61,Celeste,McAloren,cmcaloren1o@un.org,Yellow,482 Fisk Park,Long Beach,California,90805,6/28/2017\\n',\n",
       " '62,Tarra,Jagels,tjagels1p@google.pl,Blue,39030 5th Crossing,Las Vegas,Nevada,89155,11/5/2017\\n',\n",
       " '63,Grayce,Bissill,gbissill1q@gov.uk,Red,56742 Jenifer Drive,Sacramento,California,94207,4/7/2018\\n',\n",
       " '64,Latrina,Guymer,lguymer1r@yolasite.com,Blue,495 Merchant Hill,Salem,Oregon,97312,2/22/2018\\n',\n",
       " '65,Maggie,Ney,mney1s@deviantart.com,Orange,04 Di Loreto Road,Bakersfield,California,93311,4/19/2018\\n',\n",
       " '66,Elli,Hritzko,ehritzko1t@odnoklassniki.ru,Crimson,8251 Schlimgen Hill,Las Vegas,Nevada,89115,7/26/2017\\n',\n",
       " '67,Damita,Mattiazzo,dmattiazzo1u@opera.com,Yellow,911 Elmside Lane,San Jose,California,95138,11/14/2017\\n',\n",
       " '68,Jess,Padginton,jpadginton1v@epa.gov,Maroon,1804 Bonner Parkway,Long Beach,California,90840,7/24/2017\\n',\n",
       " '69,Dorthy,Brende,dbrende1w@spotify.com,Khaki,2219 Norway Maple Avenue,San Jose,California,95123,10/7/2017\\n',\n",
       " '70,Claresta,Briton,cbriton1x@nifty.com,Violet,0 Bluestem Plaza,Chico,California,95973,3/26/2018\\n',\n",
       " '71,Calhoun,Stell,cstell1y@nymag.com,Teal,2424 Golden Leaf Center,San Diego,California,92127,8/23/2017\\n',\n",
       " '72,Nikita,Boagey,nboagey1z@macromedia.com,Turquoise,672 Drewry Park,San Mateo,California,94405,7/30/2017\\n',\n",
       " '73,Weidar,Vickar,wvickar20@psu.edu,Red,9726 Grasskamp Crossing,Oakland,California,94660,2/6/2018\\n',\n",
       " '74,Gian,Siggee,gsiggee21@answers.com,Violet,6156 Corben Park,Reno,Nevada,89510,11/17/2017\\n',\n",
       " '75,Laureen,Balstone,lbalstone22@berkeley.edu,Maroon,8165 Kinsman Alley,Los Angeles,California,90076,9/9/2017\\n',\n",
       " '76,Chrisse,Desborough,cdesborough23@google.com.br,Khaki,456 Dahle Circle,Las Vegas,Nevada,89110,3/24/2018\\n',\n",
       " '77,Myrlene,Asals,masals24@myspace.com,Khaki,95586 Eastlawn Alley,Orange,California,92668,11/30/2017\\n',\n",
       " '78,Jacinda,Lindenbluth,jlindenbluth25@amazon.co.uk,Indigo,4651 Kingsford Point,Portland,Oregon,97201,6/22/2017\\n',\n",
       " '79,Nathan,Bodycomb,nbodycomb26@shinystat.com,Indigo,00186 Donald Terrace,Petaluma,California,94975,1/6/2018\\n',\n",
       " '80,Elissa,Worge,eworge27@adobe.com,Turquoise,51 Charing Cross Point,San Jose,California,95118,6/13/2017\\n',\n",
       " '81,Clementia,Apdell,capdell28@businesswire.com,Indigo,02 Hermina Junction,San Diego,California,92186,5/11/2018\\n',\n",
       " '82,Maurene,Goligly,mgoligly29@zdnet.com,Aquamarine,19667 Leroy Plaza,Fresno,California,93709,7/2/2017\\n',\n",
       " '83,Heda,Copland,hcopland2a@topsy.com,Turquoise,99 Becker Alley,Northridge,California,91328,11/7/2017\\n',\n",
       " '84,Charmaine,Targe,ctarge2b@phoca.cz,Purple,8 Dahle Street,Petaluma,California,94975,11/9/2017\\n',\n",
       " '85,Michel,Pic,mpic2c@earthlink.net,Indigo,10008 Thierer Way,Glendale,California,91205,7/17/2017\\n',\n",
       " '86,Igor,Wethey,iwethey2d@flickr.com,Yellow,36 Heffernan Lane,San Diego,California,92176,5/25/2017\\n',\n",
       " '87,Sherman,Brennen,sbrennen2e@sfgate.com,Pink,6 Village Green Alley,Riverside,California,92519,1/18/2018\\n',\n",
       " '88,Letta,Thornhill,lthornhill2f@addtoany.com,Violet,50 Loeprich Pass,Las Vegas,Nevada,89150,1/1/2018\\n',\n",
       " '89,Cassie,Demoge,cdemoge2g@ovh.net,Violet,15553 Farwell Way,Fresno,California,93762,2/9/2018\\n',\n",
       " '90,Mariann,Aldrick,maldrick2h@tinyurl.com,Red,6 Chinook Circle,Stockton,California,95205,3/9/2018\\n',\n",
       " '91,Melly,Duigenan,mduigenan2i@harvard.edu,Indigo,721 Graceland Drive,Los Angeles,California,90087,7/10/2017\\n',\n",
       " '92,Leyla,Coggles,lcoggles2j@unc.edu,Mauv,4350 Anzinger Crossing,San Bernardino,California,92410,7/8/2017\\n',\n",
       " '93,Aubry,Rawcliffe,arawcliffe2k@moonfruit.com,Blue,1215 Autumn Leaf Trail,Van Nuys,California,91411,6/6/2017\\n',\n",
       " '94,Lynn,Maddison,lmaddison2l@instagram.com,Goldenrod,91 Scott Avenue,San Diego,California,92160,7/24/2017\\n',\n",
       " '95,Omar,Sowman,osowman2m@mtv.com,Red,72144 Hazelcrest Court,San Francisco,California,94169,5/10/2018\\n',\n",
       " '96,Tommie,Le Floch,tlefloch2n@mail.ru,Aquamarine,45 Donald Pass,Carson City,Nevada,89706,3/7/2018\\n',\n",
       " '97,Roxi,Belin,rbelin2o@bigcartel.com,Red,0342 Ramsey Road,Sacramento,California,94297,10/3/2017\\n',\n",
       " '98,Gayleen,Hackwell,ghackwell2p@delicious.com,Green,9117 Montana Lane,Richmond,California,94807,5/6/2018\\n',\n",
       " '99,Ferdie,Kenan,fkenan2q@cloudflare.com,Yellow,64513 Eagle Crest Pass,Long Beach,California,90831,10/27/2017\\n',\n",
       " '100,Reyna,Morales,rmorales2r@dropbox.com,Maroon,7596 Del Sol Park,Oxnard,California,93034,6/7/2017\\n',\n",
       " '101,Addison,Jugging,ajugging2s@facebook.com,Goldenrod,1 Eagle Crest Point,San Jose,California,95155,6/1/2017\\n',\n",
       " '102,Vincent,Bosson,vbosson2t@oaic.gov.au,Indigo,850 Spohn Center,Portland,Oregon,97201,3/12/2018\\n',\n",
       " '103,Brooke,Winterborne,bwinterborne2u@unicef.org,Goldenrod,343 Mendota Place,Irvine,California,92612,7/30/2017\\n',\n",
       " '104,Rodolphe,Croston,rcroston2v@histats.com,Violet,7609 Porter Point,Oakland,California,94605,8/23/2017\\n',\n",
       " '105,Dorie,Blanshard,dblanshard2w@google.it,Puce,073 Heffernan Court,San Rafael,California,94913,7/12/2017\\n',\n",
       " '106,Sibel,Fayerman,sfayerman2x@redcross.org,Violet,8667 Mayer Court,San Francisco,California,94142,9/30/2017\\n',\n",
       " '107,Phillipp,Maisey,pmaisey2y@list-manage.com,Violet,2 Stone Corner Drive,Los Angeles,California,90081,7/1/2017\\n',\n",
       " '108,Morganica,Cowpe,mcowpe2z@multiply.com,Goldenrod,32548 Spaight Way,San Diego,California,92115,3/19/2018\\n',\n",
       " '109,Corinna,Vokins,cvokins30@nsw.gov.au,Blue,4 Welch Alley,Pasadena,California,91186,4/8/2018\\n',\n",
       " '110,Gonzales,Gibbings,ggibbings31@nbcnews.com,Red,70 Merry Way,Corona,California,92883,8/2/2017\\n',\n",
       " '111,Brod,Murphey,bmurphey32@wired.com,Purple,8035 Starling Avenue,Portland,Oregon,97206,1/4/2018\\n',\n",
       " '112,Perrine,Newham,pnewham33@dedecms.com,Purple,837 Maywood Center,Las Vegas,Nevada,89135,6/1/2017\\n',\n",
       " '113,Bevin,Peres,bperes34@ocn.ne.jp,Purple,9 Dennis Road,San Francisco,California,94177,8/12/2017\\n',\n",
       " '114,Charity,Flaonier,cflaonier35@comcast.net,Violet,3529 Kingsford Circle,Las Vegas,Nevada,89160,12/22/2017\\n',\n",
       " '115,Con,Rosenblum,crosenblum36@mail.ru,Maroon,349 Almo Plaza,Fresno,California,93721,2/6/2018\\n',\n",
       " '116,Melody,Flux,mflux37@mac.com,Mauv,14356 Stuart Drive,Pasadena,California,91103,11/10/2017\\n',\n",
       " '117,Dale,Churchley,dchurchley38@vkontakte.ru,Puce,2 Donald Plaza,Riverside,California,92513,5/6/2018\\n',\n",
       " '118,Sallie,Burgh,sburgh39@census.gov,Pink,13 Hayes Road,San Jose,California,95123,3/7/2018\\n',\n",
       " '119,Trula,Bigby,tbigby3a@biglobe.ne.jp,Teal,0518 Morrow Way,Reno,Nevada,89510,4/30/2018\\n',\n",
       " '120,Elsa,Camerati,ecamerati3b@google.pl,Turquoise,95 Carpenter Parkway,Beaverton,Oregon,97075,4/10/2018\\n',\n",
       " '121,Ringo,Knewstub,rknewstub3c@jigsy.com,Fuscia,4094 Elka Crossing,Chula Vista,California,91913,1/10/2018\\n',\n",
       " '122,Theda,Baruch,tbaruch3d@sakura.ne.jp,Green,58181 Reinke Street,Sacramento,California,94291,1/30/2018\\n',\n",
       " '123,Rosaleen,Skinley,rskinley3e@cpanel.net,Crimson,322 Village Green Crossing,North Las Vegas,Nevada,89036,6/24/2017\\n',\n",
       " '124,Andonis,Rheubottom,arheubottom3f@slashdot.org,Orange,3683 Crest Line Court,Pasadena,California,91125,5/17/2017\\n',\n",
       " '125,Shanda,Marjanski,smarjanski3g@zdnet.com,Maroon,04 Merry Hill,San Jose,California,95150,3/22/2018\\n',\n",
       " '126,Felicio,Morrel,fmorrel3h@myspace.com,Puce,3082 Superior Road,Reno,Nevada,89519,1/21/2018\\n',\n",
       " '127,Kakalina,Brennans,kbrennans3i@github.io,Red,65 Troy Junction,Pasadena,California,91103,6/6/2017\\n',\n",
       " '128,Lorin,Cabera,lcabera3j@wisc.edu,Indigo,33508 Mandrake Pass,San Francisco,California,94159,7/2/2017\\n',\n",
       " '129,Darin,Ansley,dansley3k@godaddy.com,Crimson,3028 Starling Avenue,Stockton,California,95205,12/30/2017\\n',\n",
       " '130,Manolo,Clementet,mclementet3l@amazon.co.uk,Khaki,0 Schiller Park,North Las Vegas,Nevada,89087,12/19/2017\\n',\n",
       " '131,Baron,Sandey,bsandey3m@elegantthemes.com,Puce,848 Lerdahl Terrace,San Diego,California,92145,7/21/2017\\n',\n",
       " '132,Anastasie,Yellowley,ayellowley3n@intel.com,Turquoise,71056 Park Meadow Way,Las Vegas,Nevada,89135,6/2/2017\\n',\n",
       " '133,Brita,Jarley,bjarley3o@aol.com,Fuscia,3218 Hayes Point,Fresno,California,93794,8/19/2017\\n',\n",
       " '134,Karie,Lightwing,klightwing3p@discuz.net,Mauv,13777 Waxwing Avenue,Portland,Oregon,97206,1/1/2018\\n',\n",
       " '135,Bonny,Winney,bwinney3q@latimes.com,Green,461 Parkside Parkway,Northridge,California,91328,10/26/2017\\n',\n",
       " '136,Bertine,Gascoyne,bgascoyne3r@wisc.edu,Goldenrod,55 Goodland Place,Los Angeles,California,90010,8/22/2017\\n',\n",
       " '137,Anastassia,Hawkridge,ahawkridge3s@wikipedia.org,Indigo,5 Oak Plaza,Salinas,California,93907,3/21/2018\\n',\n",
       " '138,Dylan,Sallans,dsallans3t@oakley.com,Crimson,227 Gateway Park,San Francisco,California,94147,9/11/2017\\n',\n",
       " '139,Simon,Deverson,sdeverson3u@dot.gov,Teal,9434 Dayton Parkway,Irvine,California,92717,1/19/2018\\n',\n",
       " '140,Hatti,Walkling,hwalkling3v@dagondesign.com,Khaki,1 Buhler Place,Los Angeles,California,90071,11/12/2017\\n',\n",
       " '141,Normand,Normadell,nnormadell3w@msu.edu,Teal,34 Maywood Parkway,Fresno,California,93794,9/12/2017\\n',\n",
       " '142,Kizzie,Beckham,kbeckham3x@nytimes.com,Fuscia,3 Toban Place,Portland,Oregon,97255,3/29/2018\\n',\n",
       " '143,Ursala,Trayford,utrayford3y@theguardian.com,Aquamarine,2 Ohio Place,Sacramento,California,94237,9/3/2017\\n',\n",
       " '144,Vonnie,Genese,vgenese3z@tiny.cc,Violet,14 Schurz Lane,San Luis Obispo,California,93407,7/30/2017\\n',\n",
       " '145,Brocky,Malham,bmalham40@ustream.tv,Violet,877 Jenna Pass,Oceanside,California,92056,9/17/2017\\n',\n",
       " '146,Vaughan,Tidgewell,vtidgewell41@cpanel.net,Pink,4963 Cherokee Plaza,Pasadena,California,91186,9/26/2017\\n',\n",
       " '147,Lockwood,Winterborne,lwinterborne42@woothemes.com,Turquoise,5668 Ilene Point,Fullerton,California,92835,8/5/2017\\n',\n",
       " '148,Tristam,Greiser,tgreiser43@desdev.cn,Maroon,85104 Huxley Way,Irvine,California,92710,12/9/2017\\n',\n",
       " '149,Garrot,Girodin,ggirodin44@cargocollective.com,Khaki,6 Del Sol Pass,San Jose,California,95118,6/18/2017\\n',\n",
       " '150,Alejandrina,Faraday,afaraday45@4shared.com,Goldenrod,892 Maple Center,Henderson,Nevada,89074,7/11/2017\\n',\n",
       " '151,Babbie,Beedham,bbeedham46@earthlink.net,Green,59042 Sauthoff Hill,Whittier,California,90610,10/27/2017\\n',\n",
       " '152,Deloris,Turfes,dturfes47@ocn.ne.jp,Aquamarine,24030 Buhler Park,Portland,Oregon,97201,10/6/2017\\n',\n",
       " '153,Erroll,Chipchase,echipchase48@ovh.net,Red,6 South Place,Las Vegas,Nevada,89166,3/28/2018\\n',\n",
       " '154,Mirabel,Staddom,mstaddom49@thetimes.co.uk,Red,43616 Calypso Avenue,Simi Valley,California,93094,11/4/2017\\n',\n",
       " '155,Clemente,Lanchberry,clanchberry4a@slashdot.org,Pink,342 Jenifer Terrace,San Diego,California,92127,10/23/2017\\n',\n",
       " '156,Caresa,Lowdes,clowdes4b@seattletimes.com,Aquamarine,149 Hovde Plaza,Anaheim,California,92825,2/3/2018\\n',\n",
       " '157,Tiffany,Iveagh,tiveagh4c@nhs.uk,Indigo,36002 Dottie Avenue,Los Angeles,California,90055,2/2/2018\\n',\n",
       " '158,Lizzy,Kniveton,lkniveton4d@google.com.br,Khaki,0 Tennyson Plaza,Sacramento,California,94286,10/1/2017\\n',\n",
       " '159,Lorenza,Hardingham,lhardingham4e@miitbeian.gov.cn,Indigo,243 Evergreen Road,Sacramento,California,94273,1/22/2018\\n',\n",
       " '160,Quinlan,Durdan,qdurdan4f@prweb.com,Teal,9950 Jay Place,Las Vegas,Nevada,89105,4/13/2018\\n',\n",
       " '161,Byrle,Hintze,bhintze4g@cnet.com,Maroon,89278 Toban Park,Anaheim,California,92825,6/22/2017\\n',\n",
       " '162,Blondy,Danielski,bdanielski4h@nps.gov,Blue,58846 Doe Crossing Junction,San Jose,California,95150,11/1/2017\\n',\n",
       " '163,Evelyn,Eichmann,eeichmann4i@github.com,Pink,91339 Lake View Plaza,Oakland,California,94627,12/5/2017\\n',\n",
       " '164,Brigit,Bettridge,bbettridge4j@wikimedia.org,Fuscia,22428 Sutherland Point,Henderson,Nevada,89074,10/16/2017\\n',\n",
       " '165,Elizabet,Murrock,emurrock4k@so-net.ne.jp,Teal,41 Utah Terrace,Los Angeles,California,90050,3/20/2018\\n',\n",
       " '166,Artur,Derell,aderell4l@reverbnation.com,Fuscia,656 Meadow Valley Drive,Portland,Oregon,97271,12/27/2017\\n',\n",
       " '167,Paulette,Tosspell,ptosspell4m@canalblog.com,Turquoise,09796 Sauthoff Lane,San Diego,California,92127,7/11/2017\\n',\n",
       " '168,Wynne,Stannett,wstannett4n@ihg.com,Puce,085 Kedzie Pass,Las Vegas,Nevada,89105,10/15/2017\\n',\n",
       " '169,Pearla,Trimnell,ptrimnell4o@yale.edu,Pink,7 Old Gate Parkway,San Diego,California,92115,9/30/2017\\n',\n",
       " '170,Garold,Shitliffe,gshitliffe4p@illinois.edu,Puce,4 Bayside Pass,Irvine,California,92710,7/4/2017\\n',\n",
       " '171,Abigael,Millsap,amillsap4q@dot.gov,Blue,67580 Monument Alley,Reno,Nevada,89550,10/24/2017\\n',\n",
       " '172,Rosie,Poytress,rpoytress4r@spiegel.de,Yellow,15 Schmedeman Road,Sacramento,California,94257,5/26/2017\\n',\n",
       " '173,Dougy,de Marco,ddemarco4s@jalbum.net,Maroon,4 Duke Center,Torrance,California,90510,8/25/2017\\n',\n",
       " '174,Novelia,Neumann,nneumann4t@marriott.com,Crimson,902 Rowland Trail,Sacramento,California,94280,10/18/2017\\n',\n",
       " '175,Pollyanna,Lynskey,plynskey4u@reverbnation.com,Maroon,2091 Westerfield Place,Los Angeles,California,90030,12/5/2017\\n',\n",
       " '176,Morgan,Hammersley,mhammersley4v@qq.com,Fuscia,2 Melrose Alley,San Diego,California,92127,1/26/2018\\n',\n",
       " '177,Yance,Jesper,yjesper4w@wikia.com,Khaki,3116 Granby Alley,Portland,Oregon,97255,3/7/2018\\n',\n",
       " '178,Erena,Bannerman,ebannerman4x@geocities.jp,Green,0 Pine View Hill,Riverside,California,92505,2/21/2018\\n',\n",
       " '179,Othella,Wilsee,owilsee4y@who.int,Violet,418 Clarendon Way,Bakersfield,California,93305,5/28/2017\\n',\n",
       " '180,Marybelle,Walsom,mwalsom4z@wordpress.com,Puce,82 Mccormick Circle,Ventura,California,93005,10/17/2017\\n',\n",
       " '181,Obadias,Daud,odaud50@unblog.fr,Teal,32581 Clyde Gallagher Hill,Sacramento,California,95813,6/14/2017\\n',\n",
       " '182,Annaliese,Hark,ahark51@army.mil,Pink,33564 Sheridan Place,Fresno,California,93778,2/28/2018\\n',\n",
       " '183,Ynes,Orme,yorme52@hao123.com,Mauv,67910 Valley Edge Plaza,Long Beach,California,90810,10/29/2017\\n',\n",
       " '184,Harriot,Moncreiff,hmoncreiff53@marriott.com,Orange,3480 Dovetail Point,Los Angeles,California,90071,3/16/2018\\n',\n",
       " '185,Ira,Remmer,iremmer54@sitemeter.com,Violet,087 Buell Junction,San Diego,California,92170,3/11/2018\\n',\n",
       " '186,Jeanne,Lascelles,jlascelles55@shop-pro.jp,Aquamarine,758 Mendota Point,Carlsbad,California,92013,3/26/2018\\n',\n",
       " '187,Hobie,Rodder,hrodder56@prlog.org,Mauv,8263 Colorado Circle,Reno,Nevada,89595,9/18/2017\\n',\n",
       " '188,Harriette,Ellwand,hellwand57@nps.gov,Violet,41 Calypso Plaza,Chula Vista,California,91913,5/20/2017\\n',\n",
       " '189,Riane,Mingame,rmingame58@4shared.com,Indigo,4 Lighthouse Bay Terrace,Las Vegas,Nevada,89150,10/23/2017\\n',\n",
       " '190,Randene,Fraine,rfraine59@sun.com,Violet,0 Cordelia Lane,Moreno Valley,California,92555,12/17/2017\\n',\n",
       " '191,Hazlett,Sandy,hsandy5a@mtv.com,Maroon,26 Nevada Way,Newport Beach,California,92662,12/7/2017\\n',\n",
       " '192,Mirna,Caddies,mcaddies5b@slideshare.net,Red,41 Caliangt Trail,Long Beach,California,90831,9/11/2017\\n',\n",
       " '193,Cyndia,How to preserve,chowtopreserve5c@mac.com,Blue,643 Riverside Lane,Las Vegas,Nevada,89125,4/20/2018\\n',\n",
       " '194,Kettie,Buck,kbuck5d@taobao.com,Indigo,05380 Everett Center,Moreno Valley,California,92555,3/16/2018\\n',\n",
       " '195,Melania,Rushford,mrushford5e@unblog.fr,Teal,266 Truax Plaza,Irvine,California,92619,3/9/2018\\n',\n",
       " '196,Karel,Bromwich,kbromwich5f@cmu.edu,Green,97 Manitowish Alley,Fresno,California,93750,10/9/2017\\n',\n",
       " '197,Michale,Heisham,mheisham5g@hugedomains.com,Maroon,49859 Pine View Crossing,Chula Vista,California,91913,3/30/2018\\n',\n",
       " '198,Cullan,Dafforne,cdafforne5h@ycombinator.com,Mauv,42576 Delaware Junction,San Mateo,California,94405,4/2/2018\\n']"
      ]
     },
     "execution_count": 7,
     "metadata": {},
     "output_type": "execute_result"
    }
   ],
   "source": [
    "[line.lstrip('+ ') for line in result if line[0] is '+']"
   ]
  },
  {
   "cell_type": "code",
   "execution_count": null,
   "metadata": {},
   "outputs": [],
   "source": []
  }
 ],
 "metadata": {
  "kernelspec": {
   "display_name": "Python 3",
   "language": "python",
   "name": "python3"
  },
  "language_info": {
   "codemirror_mode": {
    "name": "ipython",
    "version": 3
   },
   "file_extension": ".py",
   "mimetype": "text/x-python",
   "name": "python",
   "nbconvert_exporter": "python",
   "pygments_lexer": "ipython3",
   "version": "3.6.4"
  }
 },
 "nbformat": 4,
 "nbformat_minor": 2
}
